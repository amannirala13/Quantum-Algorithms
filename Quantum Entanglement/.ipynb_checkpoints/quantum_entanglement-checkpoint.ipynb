{
 "cells": [
  {
   "cell_type": "markdown",
   "metadata": {},
   "source": [
    "# Quantum Entanglement\n",
    "![Entanglement banner](img/banner.jpg)\n",
    "Quantum Entanglement is a physical phenomenon in which quantum states of multiple subsystems **can not be described independently of each other, even though the subsystems are separated to a great distance**. Thus any action of wave function collapse on either of the particle can give the certainty about the other particle irrespective of its local system.\n",
    "\n",
    "## Easy Understanding:\n",
    "For an instance, if you have two exactly similar quantum coins with two sides H and T. You somehow spinned and entangled the coins and gave one coin to your girlfriend/boyfriend. Now you left the planet and went to Proxima Centauri B and there at a particular instance of time you stopped your spinning coin and get the output as H, since the two coins were entangled you have the certaininty of the result your mate will measure back on earth by stopping it at the very instance. This happens instantly even if you are light years apart. Probably very romantic if you are going on a space exploration but it was not that pleasant for Albert Einstein, he called it \"*spooky action at distance*\". According to his realtivity theory, nothing can travel faster than the speed of light. So, how come the infomation of the wave function collapse of the particle A travelled to particle B at very instance. He also proposed a thought experiment as EPR Theory which got famous as The EPR Paradox in which he proposed an experimental setup that showed how this theory of qauantum entanglement is absurd with respect to the Werner Heisenberg Uncertaininty Principle. But here in this article, we are going to entangle qunatum bits by just using few lines of python code.\n",
    "\n",
    "## Mathematical Defination:\n",
    "A quantum subsystem is said to be entangled only if its state can not be written as a product state. A product state is the simplest state of a composite system. Suppose there is a composite quantum system that is described as \n",
    "$H = H_1 \\otimes H_2 \\otimes H_3 \\otimes H_4 \\otimes H_5 \\otimes ... H_n $\n",
    "where $H_n$ is the underlying **Hilbert spaces** of their respective quantum systems. A state $|Z> \\in H$ is entangled only if it can not be described in the vector form $|Z> = |Z_1> \\otimes  |Z_2> \\otimes  |Z_3> \\otimes ... |Z_n>$. As you can see in product states, the states of all the subsystems behave independently. Thus, the state of one subsystem doesn't affect the state of the other system in the vector space.\n",
    "\n",
    "### Entangled coins:\n",
    "Now, lets understand the above example in a bit more mathematical form. For the time being I would call you $A$ and your mate as $B$. When you took the quantum coins before entanglement and spun them, thier superposition can be represented as:\n",
    "\n",
    "\\begin{equation*}\n",
    "|\\psi_A> \\ = \\alpha_A|H> + \\beta_A|T>\n",
    "\\end{equation*}\n",
    "\\begin{equation*}\n",
    "|\\psi_B> \\ = \\alpha_B|H> + \\beta_B|T>\n",
    "\\end{equation*}\n",
    "\n",
    "We can write the product state of the above quantum subsystems as:\n",
    "\n",
    "\\begin{equation*}\n",
    "|\\psi_{AB}> \\ = (\\alpha_A|H> + \\beta_A|T>) \\otimes (\\alpha_B|H> + \\beta_B|T>)\n",
    "\\end{equation*}\n",
    "\n",
    "\\begin{equation*}\n",
    "|\\psi_{AB}> \\ = \\alpha_A\\alpha_B|HH> + \\alpha_A\\beta_B|HT> + \\beta_A\\alpha_B|TH> + \\beta_A\\beta_B|TT>\n",
    "\\end{equation*}\n",
    "\n",
    "Since the eigenstates of one subsystem doesn't affect the others, carry more information than the states prepared by the coins separately and can be factorized, we can certainly say these coins are not entangled.<br><br>So, now let's form singlet and triplet states that carry no information of the particles separately, state of one subsystem affects the sate of others and can not be factored into substates. Thus, creating quantumly entangled sates of the coins.\n",
    "\n",
    "Singlet state:\n",
    "\\begin{equation*}\n",
    "|\\psi> \\ = \\frac{1}{\\sqrt{2}}( |HT> - |TH> )\n",
    "\\end{equation*}\n",
    "\n",
    "Now, the Triplet states:\n",
    "\\begin{equation*}\n",
    "|\\psi_1> \\ = \\frac{1}{\\sqrt{2}}( |HT> + |TH> )\n",
    "\\end{equation*}\n",
    "\\begin{equation*}\n",
    "|\\psi_1> \\ = \\frac{1}{\\sqrt{2}}( |HH> + |TT> )\n",
    "\\end{equation*}\n",
    "\\begin{equation*}\n",
    "|\\psi_1> \\ = \\frac{1}{\\sqrt{2}}( |HH> - |TT> )\n",
    "\\end{equation*}\n",
    "\n",
    "This triplet state carries the complete information of the composite system and carries no information about the individual subsystems.<br><br>\n",
    "\n",
    "#### Now let us make a quantum circuit using Qiskit and Python that actually creates entanglement step by step:<br><br>"
   ]
  },
  {
   "cell_type": "markdown",
   "metadata": {},
   "source": [
    "### Importing QISKIT and related libraries for visualization:"
   ]
  },
  {
   "cell_type": "code",
   "execution_count": 52,
   "metadata": {},
   "outputs": [],
   "source": [
    "from qiskit import *\n",
    "from qiskit.tools.jupyter import *\n",
    "from qiskit.compiler import transpile, assemble\n",
    "from qiskit.tools.monitor import job_monitor\n",
    "from qiskit.tools.visualization import plot_histogram"
   ]
  },
  {
   "cell_type": "markdown",
   "metadata": {},
   "source": [
    "## Creating a Quantum Circuit:\n",
    "Here I have created two quantum registers i.e. qubits that we will be entangled together and two classical registers that will help us read the classical values out of the quantum registers. We then finally create the circuit object with the registers."
   ]
  },
  {
   "cell_type": "code",
   "execution_count": 53,
   "metadata": {},
   "outputs": [],
   "source": [
    "q_reg = QuantumRegister(2,'q')\n",
    "c_reg = ClassicalRegister(2,'c')\n",
    "circuit = QuantumCircuit(q_reg,c_reg)"
   ]
  },
  {
   "cell_type": "markdown",
   "metadata": {},
   "source": [
    "### Visualizing the circuit:\n",
    "The circuit just has the quantum registers ($q_0$ and $q_1$) and the two classical registers are represented by $c$ represented as a single line."
   ]
  },
  {
   "cell_type": "code",
   "execution_count": 54,
   "metadata": {},
   "outputs": [
    {
     "data": {
      "image/png": "[encoded data removed]",
      "text/plain": [
       "<Figure size 156.52x204.68 with 1 Axes>"
      ]
     },
     "execution_count": 54,
     "metadata": {},
     "output_type": "execute_result"
    }
   ],
   "source": [
    "circuit.draw(output = 'mpl')"
   ]
  },
  {
   "cell_type": "markdown",
   "metadata": {},
   "source": [
    "## Adding Quantum Gates to the circuit:\n",
    "We first add the **Not gate** to the $q_1$ to perform a $\\pi \\ radian$  rotation along the **z-axis** in the bloch sphere model to convert from $|0>$ to $|1>$. We then apply the **Hadamard Gate** to the $q_2$ to perform a $\\pi \\ radian$ rotation along the **z-axis** and $\\frac{\\pi}{2} \\ radian$ along the **y-axis** in the bloch sphere model to project in the **x-axis** and put it in a superposition of its value on the **z-axis**. This can be formulated as:\n",
    "\\begin{equation*}\n",
    "H|0> \\ = \\frac{1}{\\sqrt2}(|0>+|1>)\n",
    "\\end{equation*}\n",
    "Then we apply the **measurement gates** on both the quantum registers to measure their classical values alone the **z-axis**."
   ]
  },
  {
   "cell_type": "code",
   "execution_count": 55,
   "metadata": {},
   "outputs": [
    {
     "data": {
      "image/png": "[encoded data removed]",
      "text/plain": [
       "<Figure size 337.12x204.68 with 1 Axes>"
      ]
     },
     "execution_count": 55,
     "metadata": {},
     "output_type": "execute_result"
    }
   ],
   "source": [
    "circuit.x(q_reg[1])\n",
    "circuit.h(q_reg[0])\n",
    "circuit.measure(q_reg,c_reg)\n",
    "circuit.draw(output = 'mpl')"
   ]
  },
  {
   "cell_type": "markdown",
   "metadata": {},
   "source": [
    "## Running the quantum circuit on the simulator:\n",
    "We are now creating the simulator object that will execute the circuit and extract the result. The result will be in the form of a probability density matrix which will be plotted as histograms for visualization. We will then analyze the output to see if it is entangled or not."
   ]
  },
  {
   "cell_type": "code",
   "execution_count": 56,
   "metadata": {},
   "outputs": [
    {
     "data": {
      "image/png": "[encoded data removed]",
      "text/plain": [
       "<Figure size 504x360 with 1 Axes>"
      ]
     },
     "execution_count": 56,
     "metadata": {},
     "output_type": "execute_result"
    }
   ],
   "source": [
    "stimulator = Aer.get_backend(\"qasm_simulator\")\n",
    "result = execute(circuit, backend = stimulator).result()\n",
    "plot_histogram(result.get_counts(circuit))"
   ]
  },
  {
   "cell_type": "markdown",
   "metadata": {},
   "source": [
    "## Result Analysis:\n",
    "Before analyzing the result let's first analyze the curcuit itself. The circuit had two quantum registers $q_1$ and $q_2$, where $q_1$ was in superpositoin i.e. $|q_1> \\ = \\frac{1}{\\sqrt2}(|0>+|1>)$ and the $q_2$ as $|1>$. Now the sate of the composite system of these subsystems can be represented as:\n",
    "\\begin{equation*}\n",
    "\\frac{1}{\\sqrt2}(|0>+|1>) \\otimes (|1>)\n",
    "\\end{equation*}\n",
    "\n",
    "Thus the composite equation is:\n",
    "\\begin{equation*}\n",
    "\\frac{1}{\\sqrt2}(|01>+|11>)\n",
    "\\end{equation*}\n",
    "So is in the result, the only outputs were $01$ and $11$. We can see this is a product state of the subsystems because the state of one subsystem doesn't affect the other, can be normalized easily as the sate of every subsystem can be defined independently. For example:\n",
    "\n",
    "\\begin{equation*}\n",
    "\\frac{1}{\\sqrt2}|01>+\\frac{1}{\\sqrt2}|11>\n",
    "\\end{equation*}\n",
    "<br>\n",
    "\\begin{equation*}\n",
    "\\psi_{12}|01>+\\psi_{12}|11>\\\\\n",
    "\\end{equation*}<br>\n",
    "where $|\\psi_{12}|^2$ is the **probability of the output from $q_1$ and $q_2$**\n",
    "\n",
    "> Now, to make these registers entangled, we need to have such a equation of the composite system that doesn't have any information about the subsystems independently and can't be factorized."
   ]
  },
  {
   "cell_type": "markdown",
   "metadata": {},
   "source": [
    "## Applying CNOT gate:\n",
    "Now, we are applying the **Controlled Not gate** on $q_1$ as the **control** and the $q_2$ as the **target**. Doing this will enable us to perform a **NOT** operation i.e. $\\frac{\\pi}{2} \\ radian$ rotation along the **z-axis** on $q_2$ whenever the value of $q_1$ is $|1>$. Lets apply the gate and visualize the curcuit!"
   ]
  },
  {
   "cell_type": "code",
   "execution_count": 57,
   "metadata": {},
   "outputs": [
    {
     "data": {
      "image/png": "[encoded data removed]",
      "text/plain": [
       "<Figure size 397.32x204.68 with 1 Axes>"
      ]
     },
     "execution_count": 57,
     "metadata": {},
     "output_type": "execute_result"
    }
   ],
   "source": [
    "q_reg_ent = QuantumRegister(2,'q')\n",
    "c_reg_ent = ClassicalRegister(2,'c')\n",
    "ent_circuit = QuantumCircuit(q_reg,c_reg)\n",
    "ent_circuit.x(q_reg_ent[1])\n",
    "ent_circuit.h(q_reg_ent[0])\n",
    "ent_circuit.cx(q_reg_ent[0],q_reg_ent[1])\n",
    "ent_circuit.measure(q_reg_ent,c_reg_ent)\n",
    "ent_circuit.draw(output = 'mpl')"
   ]
  },
  {
   "cell_type": "markdown",
   "metadata": {},
   "source": [
    "## Run the circuit on the simulator:\n",
    "Let's run the newly create a circuit on the simulator and analyze if we were able to create entanglement?"
   ]
  },
  {
   "cell_type": "code",
   "execution_count": 58,
   "metadata": {},
   "outputs": [
    {
     "data": {
      "image/png": "[encoded data removed]",
      "text/plain": [
       "<Figure size 504x360 with 1 Axes>"
      ]
     },
     "execution_count": 58,
     "metadata": {},
     "output_type": "execute_result"
    }
   ],
   "source": [
    "result = execute(ent_circuit, backend = stimulator).result()\n",
    "plot_histogram(result.get_counts(ent_circuit))"
   ]
  },
  {
   "cell_type": "markdown",
   "metadata": {},
   "source": [
    "## Result analysis:\n",
    "As we did the last time, let us first go through the circuit and that would provide us all the reasons for the results and answers to our questions. This new circuit is similar to the previous one till the application of the Hadamard and the Not gate on $q_1$ and $q_2$. So, let us formulate what we can from the previous circuit:\n",
    "\n",
    "\\begin{equation*}\n",
    "\\frac{1}{\\sqrt2}(|0>+|1>) \\otimes (|1>)\n",
    "\\end{equation*}\n",
    "\n",
    "Now, before finding the tensor product we need to consider the **Controlled Not gate** we applied in the circuit. When the state of $q_1$ is $|1>$ the gate performs a **Not** operation on $q_2$. Thus, the final composite equation would be:\n",
    "\n",
    "\\begin{equation*}\n",
    "\\frac{1}{\\sqrt2}(|01>+|10>)\n",
    "\\end{equation*}\n",
    "\n",
    "So, we can see in the equation and the result itself, the outputs are $01$ and $10$. Now as we see this composite system state can not be factorized as the individual information of the subsystems got lost and the state of one subsystem give the certainity for other i.e. when $q_1 = |0>$ $q_2 = |1>$ and when $q_1 = |1>$ $q_2 = |0>$.<br><br>\n",
    "\n",
    "## We have finally entangled the registers successfully!"
   ]
  },
  {
   "cell_type": "markdown",
   "metadata": {},
   "source": [
    "<br><br>\n",
    "### Author: **Aman Kumar Nirala**\n",
    ">\"I hope this helped you in understanding Quantum entanglement and its application in quantum computers. I tried to make it as simple as I can and not including unnecessary theories or equations. Thanks for reading.\""
   ]
  },
  {
   "cell_type": "markdown",
   "metadata": {},
   "source": [
    "# **❤ Support**\n",
    "If you like my work, a bit of contribution would motivate me a lot for more open source contributions.\n",
    "\n",
    "[![Donate](https://img.shields.io/badge/Donate-PayPal-green.svg)](https://www.paypal.me/amannirala13)\n",
    "\n",
    "*Please support the work:*\n",
    " - [Follow on **Github**](https://github.com/amannirala13)\n",
    " - [Follow on **LinkedIn**](https://www.linkedin.com/in/amannirala13/)\n",
    " - [Follow on **Twitter**](https://twitter.com/AmanNirala13)\n",
    " - [Follow on **Instagram**](https://www.instagram.com/amannirala13/)\n",
    " - [Follow on **Research Gate**](https://www.researchgate.net/profile/Aman_Nirala)\n"
   ]
  }
 ],
 "metadata": {
  "kernelspec": {
   "display_name": "Python 3",
   "language": "python",
   "name": "python3"
  },
  "language_info": {
   "codemirror_mode": {
    "name": "ipython",
    "version": 3
   },
   "file_extension": ".py",
   "mimetype": "text/x-python",
   "name": "python",
   "nbconvert_exporter": "python",
   "pygments_lexer": "ipython3",
   "version": "3.7.6"
  }
 },
 "nbformat": 4,
 "nbformat_minor": 4
}
